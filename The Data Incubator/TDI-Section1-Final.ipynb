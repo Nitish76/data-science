{
 "cells": [
  {
   "cell_type": "code",
   "execution_count": 1,
   "metadata": {},
   "outputs": [],
   "source": [
    "import pandas as pd\n",
    "import glob"
   ]
  },
  {
   "cell_type": "code",
   "execution_count": 2,
   "metadata": {},
   "outputs": [
    {
     "name": "stderr",
     "output_type": "stream",
     "text": [
      "C:\\Users\\Nitish\\Anaconda3\\lib\\site-packages\\IPython\\core\\interactiveshell.py:2728: DtypeWarning: Columns (0) have mixed types. Specify dtype option on import or set low_memory=False.\n",
      "  interactivity=interactivity, compiler=compiler, result=result)\n"
     ]
    }
   ],
   "source": [
    "# import and read files\n",
    "files  = glob.glob('detail\\*.csv')\n",
    "all_data = pd.DataFrame()\n",
    "lis = [];\n",
    "for f in files:\n",
    "    df = pd.read_csv(f, encoding = \"ISO-8859-1\")\n",
    "    lis.append(df)\n",
    "    "
   ]
  },
  {
   "cell_type": "code",
   "execution_count": 3,
   "metadata": {},
   "outputs": [],
   "source": [
    "# clean data\n",
    "keep_cols = ['BIOGUIDE_ID', 'OFFICE','CATEGORY', 'PAYEE', 'START DATE', 'END DATE','PURPOSE','AMOUNT', 'YEAR']\n",
    "for j in range(len(lis)):\n",
    "    df2 = lis[j]\n",
    "    if j==31:\n",
    "        df2.drop('YEAR', axis=1, inplace=True)\n",
    "        df2.columns = ['BIOGUIDE_ID','OFFICE','QUARTER','PROGRAM','CATEGORY','SORT SEQUENCE','DATE','TRANSCODE','PAYEE','START DATE','END DATE','PURPOSE','AMOUNT','YEAR']\n",
    "    lis[j] = df2[keep_cols]\n",
    "    "
   ]
  },
  {
   "cell_type": "code",
   "execution_count": 4,
   "metadata": {},
   "outputs": [],
   "source": [
    "#merge data\n",
    "all_data = pd.concat(lis)\n",
    "all_data.index=(range(all_data.shape[0]))\n"
   ]
  },
  {
   "cell_type": "code",
   "execution_count": 5,
   "metadata": {},
   "outputs": [],
   "source": [
    "#change type of amount to float\n",
    "n= all_data['AMOUNT'].shape[0]\n",
    "num = all_data['AMOUNT'].values\n",
    "for i in range(n):\n",
    "    if (',') in str(num[i]):\n",
    "        num[i]=num[i].replace(',','')\n",
    "        num[i]=float(num[i])\n",
    "all_data['AMOUNT']=num"
   ]
  },
  {
   "cell_type": "code",
   "execution_count": 6,
   "metadata": {},
   "outputs": [],
   "source": [
    "all_data[['AMOUNT']]=all_data[['AMOUNT']].apply(pd.to_numeric)\n"
   ]
  },
  {
   "cell_type": "code",
   "execution_count": 7,
   "metadata": {},
   "outputs": [
    {
     "name": "stdout",
     "output_type": "stream",
     "text": [
      "13660703793.3099994659\n"
     ]
    }
   ],
   "source": [
    "#total of transactions\n",
    "total = all_data['AMOUNT'].sum()\n",
    "print('{0:0.10f}'.format(total))\n"
   ]
  },
  {
   "cell_type": "code",
   "execution_count": 8,
   "metadata": {},
   "outputs": [],
   "source": [
    "#change dates from string to date object\n",
    "s = lambda x: str(x)\n",
    "change_date = lambda x: x.replace(x, x[:len(x)-3]+'/20'+x[-2:]) if len(x)<9 and len(x)>=5 else x.lower()\n",
    "all_data['END DATE'] = all_data['END DATE'].apply(s)\n",
    "all_data['END DATE'] =  all_data['END DATE'].apply(change_date)\n",
    "all_data['START DATE'] = all_data['START DATE'].apply(s)\n",
    "all_data['START DATE'] =  all_data['START DATE'].apply(change_date)"
   ]
  },
  {
   "cell_type": "code",
   "execution_count": 9,
   "metadata": {},
   "outputs": [],
   "source": [
    "all_data['END DATE'] = pd.to_datetime(all_data['END DATE'], format='%m/%d/%Y',errors='coerce')\n",
    "all_data['START DATE'] = pd.to_datetime(all_data['START DATE'], format='%m/%d/%Y',errors='coerce')\n"
   ]
  },
  {
   "cell_type": "code",
   "execution_count": 10,
   "metadata": {},
   "outputs": [],
   "source": [
    "#calculate covergae period\n",
    "all_data['COVERAGE PERIOD'] = all_data['END DATE'] - all_data['START DATE']"
   ]
  },
  {
   "cell_type": "code",
   "execution_count": 11,
   "metadata": {},
   "outputs": [
    {
     "name": "stdout",
     "output_type": "stream",
     "text": [
      "64.1342961250\n"
     ]
    }
   ],
   "source": [
    "all_data_positive = all_data.loc[all_data['AMOUNT']>=0]\n",
    "coverage_std = all_data_positive['COVERAGE PERIOD'].std().total_seconds()/(3600*24)\n",
    "print('{0:0.10f}'.format(coverage_std))\n"
   ]
  },
  {
   "cell_type": "code",
   "execution_count": 12,
   "metadata": {},
   "outputs": [
    {
     "name": "stdout",
     "output_type": "stream",
     "text": [
      "1222767787.2285723686\n"
     ]
    }
   ],
   "source": [
    "#average expenditure for 7 years\n",
    "df_7yrs_positive = all_data_positive[all_data_positive['START DATE'].notnull()]\n",
    "df_7yrs_positive = df_7yrs_positive[df_7yrs_positive['START DATE'].isin(pd.date_range('2010-01-01','2016-12-31'))]\n",
    "avg_expenditure_7yrs = df_7yrs_positive['AMOUNT'].sum()/7\n",
    "print('{0:0.10f}'.format(avg_expenditure_7yrs))\n"
   ]
  },
  {
   "cell_type": "code",
   "execution_count": 13,
   "metadata": {},
   "outputs": [
    {
     "name": "stdout",
     "output_type": "stream",
     "text": [
      "0.0686516587\n"
     ]
    }
   ],
   "source": [
    "#fraction of most expensive purpose of highest spending average to total expenditures starting in2016\n",
    "df_2016 = all_data[all_data['START DATE'].isin(pd.date_range('2016-01-01','2016-12-31'))]\n",
    "total_exp_2016 = df_2016['AMOUNT'].sum()\n",
    "df_2016.groupby(['OFFICE']).sum().sort_values(by = ['AMOUNT'], ascending=False)\n",
    "df_most_exp_office = df_2016[(df_2016['OFFICE'] == 'GOVERNMENT CONTRIBUTIONS')]\n",
    "most_exp_purpose = df_most_exp_office.groupby(['PURPOSE']).sum().sort_values(by = ['AMOUNT'], ascending=False).values[0]\n",
    "fraction = most_exp_purpose/total_exp_2016\n",
    "print('{0:0.10f}'.format(fraction[0]))"
   ]
  },
  {
   "cell_type": "code",
   "execution_count": 14,
   "metadata": {},
   "outputs": [],
   "source": [
    "# change year to a number\n",
    "change_year = lambda x: x.replace(x, x[-4:]) if len(x)>4 else x.lower()\n",
    "all_data['YEAR'] = all_data['YEAR'].apply(s)\n",
    "all_data['YEAR'] = all_data['YEAR'].apply(change_year)"
   ]
  },
  {
   "cell_type": "code",
   "execution_count": 15,
   "metadata": {},
   "outputs": [],
   "source": [
    "all_data[['YEAR']]=all_data[['YEAR']].apply(pd.to_numeric, errors='coerce')\n"
   ]
  },
  {
   "cell_type": "code",
   "execution_count": 16,
   "metadata": {},
   "outputs": [
    {
     "name": "stdout",
     "output_type": "stream",
     "text": [
      "42844.6237777778\n"
     ]
    }
   ],
   "source": [
    "#highest staff salary among all represetatives in 2016\n",
    "df_year = all_data[all_data['YEAR'].notnull()]\n",
    "df_2016 = df_year[(df_year['YEAR']== 2016)]\n",
    "df4 = df_2016[(df_2016['CATEGORY'] == 'PERSONNEL COMPENSATION')]\n",
    "df5=df4.groupby(['BIOGUIDE_ID'])['AMOUNT'].sum()\n",
    "df_payee=df4.groupby(['BIOGUIDE_ID'])['PAYEE'].unique().values\n",
    "for i in range(len(df_payee)):\n",
    "    df6 = df5/len(df_payee[i])\n",
    "df6 = df6.sort_values(ascending=False)\n",
    "print('{0:0.10f}'.format(df6[0]))"
   ]
  },
  {
   "cell_type": "code",
   "execution_count": 17,
   "metadata": {},
   "outputs": [
    {
     "data": {
      "text/html": [
       "<div>\n",
       "<style scoped>\n",
       "    .dataframe tbody tr th:only-of-type {\n",
       "        vertical-align: middle;\n",
       "    }\n",
       "\n",
       "    .dataframe tbody tr th {\n",
       "        vertical-align: top;\n",
       "    }\n",
       "\n",
       "    .dataframe thead th {\n",
       "        text-align: right;\n",
       "    }\n",
       "</style>\n",
       "<table border=\"1\" class=\"dataframe\">\n",
       "  <thead>\n",
       "    <tr style=\"text-align: right;\">\n",
       "      <th></th>\n",
       "      <th>BIOGUIDE_ID</th>\n",
       "      <th>OFFICE</th>\n",
       "      <th>CATEGORY</th>\n",
       "      <th>PAYEE</th>\n",
       "      <th>START DATE</th>\n",
       "      <th>END DATE</th>\n",
       "      <th>PURPOSE</th>\n",
       "      <th>AMOUNT</th>\n",
       "      <th>YEAR</th>\n",
       "      <th>COVERAGE PERIOD</th>\n",
       "    </tr>\n",
       "  </thead>\n",
       "  <tbody>\n",
       "    <tr>\n",
       "      <th>123599</th>\n",
       "      <td>NaN</td>\n",
       "      <td>HOUSE INFORMATION RESOURCES</td>\n",
       "      <td>EQUIPMENT</td>\n",
       "      <td>10_07       P2    OFP1000024                CA...</td>\n",
       "      <td>2009-10-01</td>\n",
       "      <td>2009-10-01</td>\n",
       "      <td>EQUIPMENT MAINTENANCE</td>\n",
       "      <td>28560.00</td>\n",
       "      <td>2010.0</td>\n",
       "      <td>0 days</td>\n",
       "    </tr>\n",
       "    <tr>\n",
       "      <th>123615</th>\n",
       "      <td>NaN</td>\n",
       "      <td>CHIEF ADMINISTRATIVE OFFICER</td>\n",
       "      <td>EQUIPMENT</td>\n",
       "      <td>10_07   P2    OFP1000001                     DO</td>\n",
       "      <td>2009-07-10</td>\n",
       "      <td>2009-07-10</td>\n",
       "      <td>EQUIPMENT MAINTENANCE</td>\n",
       "      <td>3169.77</td>\n",
       "      <td>2010.0</td>\n",
       "      <td>0 days</td>\n",
       "    </tr>\n",
       "    <tr>\n",
       "      <th>123616</th>\n",
       "      <td>NaN</td>\n",
       "      <td>CHIEF ADMINISTRATIVE OFFICER</td>\n",
       "      <td>EQUIPMENT</td>\n",
       "      <td>10_07   P2    OFP1000001                     DO</td>\n",
       "      <td>2009-07-10</td>\n",
       "      <td>2009-07-10</td>\n",
       "      <td>EQUIPMENT MAINTENANCE</td>\n",
       "      <td>206873.18</td>\n",
       "      <td>2010.0</td>\n",
       "      <td>0 days</td>\n",
       "    </tr>\n",
       "    <tr>\n",
       "      <th>123617</th>\n",
       "      <td>NaN</td>\n",
       "      <td>CHIEF ADMINISTRATIVE OFFICER</td>\n",
       "      <td>EQUIPMENT</td>\n",
       "      <td>10_07   P2    OFP1000001                     DO</td>\n",
       "      <td>2009-07-10</td>\n",
       "      <td>2009-07-10</td>\n",
       "      <td>EQUIPMENT MAINTENANCE</td>\n",
       "      <td>2842.77</td>\n",
       "      <td>2010.0</td>\n",
       "      <td>0 days</td>\n",
       "    </tr>\n",
       "    <tr>\n",
       "      <th>123618</th>\n",
       "      <td>NaN</td>\n",
       "      <td>CHIEF ADMINISTRATIVE OFFICER</td>\n",
       "      <td>EQUIPMENT</td>\n",
       "      <td>10_07   P2    OFP1000001                     DO</td>\n",
       "      <td>2009-07-10</td>\n",
       "      <td>2009-07-10</td>\n",
       "      <td>EQUIPMENT MAINTENANCE</td>\n",
       "      <td>5685.53</td>\n",
       "      <td>2010.0</td>\n",
       "      <td>0 days</td>\n",
       "    </tr>\n",
       "  </tbody>\n",
       "</table>\n",
       "</div>"
      ],
      "text/plain": [
       "       BIOGUIDE_ID                        OFFICE   CATEGORY  \\\n",
       "123599         NaN   HOUSE INFORMATION RESOURCES  EQUIPMENT   \n",
       "123615         NaN  CHIEF ADMINISTRATIVE OFFICER  EQUIPMENT   \n",
       "123616         NaN  CHIEF ADMINISTRATIVE OFFICER  EQUIPMENT   \n",
       "123617         NaN  CHIEF ADMINISTRATIVE OFFICER  EQUIPMENT   \n",
       "123618         NaN  CHIEF ADMINISTRATIVE OFFICER  EQUIPMENT   \n",
       "\n",
       "                                                    PAYEE START DATE  \\\n",
       "123599  10_07       P2    OFP1000024                CA... 2009-10-01   \n",
       "123615    10_07   P2    OFP1000001                     DO 2009-07-10   \n",
       "123616    10_07   P2    OFP1000001                     DO 2009-07-10   \n",
       "123617    10_07   P2    OFP1000001                     DO 2009-07-10   \n",
       "123618    10_07   P2    OFP1000001                     DO 2009-07-10   \n",
       "\n",
       "         END DATE                PURPOSE     AMOUNT    YEAR COVERAGE PERIOD  \n",
       "123599 2009-10-01  EQUIPMENT MAINTENANCE   28560.00  2010.0          0 days  \n",
       "123615 2009-07-10  EQUIPMENT MAINTENANCE    3169.77  2010.0          0 days  \n",
       "123616 2009-07-10  EQUIPMENT MAINTENANCE  206873.18  2010.0          0 days  \n",
       "123617 2009-07-10  EQUIPMENT MAINTENANCE    2842.77  2010.0          0 days  \n",
       "123618 2009-07-10  EQUIPMENT MAINTENANCE    5685.53  2010.0          0 days  "
      ]
     },
     "execution_count": 17,
     "metadata": {},
     "output_type": "execute_result"
    }
   ],
   "source": [
    "df_7yrs = df_year[(df_year['YEAR']>= 2010) & (df_year['YEAR'] < 2016)]\n",
    "df_7yrs.head()"
   ]
  },
  {
   "cell_type": "code",
   "execution_count": null,
   "metadata": {},
   "outputs": [],
   "source": []
  }
 ],
 "metadata": {
  "kernelspec": {
   "display_name": "Python 3",
   "language": "python",
   "name": "python3"
  },
  "language_info": {
   "codemirror_mode": {
    "name": "ipython",
    "version": 3
   },
   "file_extension": ".py",
   "mimetype": "text/x-python",
   "name": "python",
   "nbconvert_exporter": "python",
   "pygments_lexer": "ipython3",
   "version": "3.6.4"
  }
 },
 "nbformat": 4,
 "nbformat_minor": 2
}
